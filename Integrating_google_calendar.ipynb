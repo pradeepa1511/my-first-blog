{
  "nbformat": 4,
  "nbformat_minor": 0,
  "metadata": {
    "colab": {
      "name": "Integrating google calendar.ipynb",
      "provenance": [],
      "collapsed_sections": [],
      "authorship_tag": "ABX9TyMV9Tv3d44QvfIgt/prKlGP",
      "include_colab_link": true
    },
    "kernelspec": {
      "name": "python3",
      "display_name": "Python 3"
    }
  },
  "cells": [
    {
      "cell_type": "markdown",
      "metadata": {
        "id": "view-in-github",
        "colab_type": "text"
      },
      "source": [
        "<a href=\"https://colab.research.google.com/github/pradeepa1511/my-first-blog/blob/master/Integrating_google_calendar.ipynb\" target=\"_parent\"><img src=\"https://colab.research.google.com/assets/colab-badge.svg\" alt=\"Open In Colab\"/></a>"
      ]
    },
    {
      "cell_type": "code",
      "metadata": {
        "id": "ONuJS5RBX0FR",
        "colab_type": "code",
        "colab": {
          "base_uri": "https://localhost:8080/",
          "height": 224
        },
        "outputId": "8a16d09a-cb38-4349-cd61-7250b1463297"
      },
      "source": [
        "pip install google-api-python-client                   #this library will help us to interact withany kind of google api"
      ],
      "execution_count": 3,
      "outputs": [
        {
          "output_type": "stream",
          "text": [
            "Requirement already satisfied: google-api-python-client in /usr/local/lib/python3.6/dist-packages (1.7.12)\n",
            "Requirement already satisfied: six<2dev,>=1.6.1 in /usr/local/lib/python3.6/dist-packages (from google-api-python-client) (1.15.0)\n",
            "Requirement already satisfied: httplib2<1dev,>=0.17.0 in /usr/local/lib/python3.6/dist-packages (from google-api-python-client) (0.17.4)\n",
            "Requirement already satisfied: google-auth>=1.4.1 in /usr/local/lib/python3.6/dist-packages (from google-api-python-client) (1.17.2)\n",
            "Requirement already satisfied: uritemplate<4dev,>=3.0.0 in /usr/local/lib/python3.6/dist-packages (from google-api-python-client) (3.0.1)\n",
            "Requirement already satisfied: google-auth-httplib2>=0.0.3 in /usr/local/lib/python3.6/dist-packages (from google-api-python-client) (0.0.4)\n",
            "Requirement already satisfied: cachetools<5.0,>=2.0.0 in /usr/local/lib/python3.6/dist-packages (from google-auth>=1.4.1->google-api-python-client) (4.1.1)\n",
            "Requirement already satisfied: pyasn1-modules>=0.2.1 in /usr/local/lib/python3.6/dist-packages (from google-auth>=1.4.1->google-api-python-client) (0.2.8)\n",
            "Requirement already satisfied: rsa<5,>=3.1.4; python_version >= \"3\" in /usr/local/lib/python3.6/dist-packages (from google-auth>=1.4.1->google-api-python-client) (4.6)\n",
            "Requirement already satisfied: setuptools>=40.3.0 in /usr/local/lib/python3.6/dist-packages (from google-auth>=1.4.1->google-api-python-client) (49.1.0)\n",
            "Requirement already satisfied: pyasn1<0.5.0,>=0.4.6 in /usr/local/lib/python3.6/dist-packages (from pyasn1-modules>=0.2.1->google-auth>=1.4.1->google-api-python-client) (0.4.8)\n"
          ],
          "name": "stdout"
        }
      ]
    },
    {
      "cell_type": "markdown",
      "metadata": {
        "id": "BR-01ndBXtco",
        "colab_type": "text"
      },
      "source": [
        "OAUTH 2.0 SETUP"
      ]
    },
    {
      "cell_type": "code",
      "metadata": {
        "id": "YPHxAjcgfHoo",
        "colab_type": "code",
        "colab": {}
      },
      "source": [
        "from apiclient.discovery import build                  #it builds service objects for any kind of google api          \n",
        "from google_auth_oauthlib.flow import InstalledAppFlow  #set up oauth2.0 credentials"
      ],
      "execution_count": 7,
      "outputs": []
    },
    {
      "cell_type": "markdown",
      "metadata": {
        "id": "V9C4b3zUfTek",
        "colab_type": "text"
      },
      "source": [
        "SCOPES"
      ]
    },
    {
      "cell_type": "code",
      "metadata": {
        "id": "rUanHQCTfWi9",
        "colab_type": "code",
        "colab": {}
      },
      "source": [
        "scopes=['https://www.googleapis.com/auth/calendar']"
      ],
      "execution_count": 8,
      "outputs": []
    },
    {
      "cell_type": "code",
      "metadata": {
        "id": "zrG2PdszfkA2",
        "colab_type": "code",
        "colab": {
          "base_uri": "https://localhost:8080/",
          "height": 71
        },
        "outputId": "ae7a92a5-48d1-4d60-ef68-797055024980"
      },
      "source": [
        "flow = InstalledAppFlow.from_client_secrets_file(\"client_secret.json.json\", scopes=scopes) \n",
        "# create a flow and add the path to client_secret file\n",
        "credentials=flow.run_console()   #ask me open this link and sign in to my account and enable the permission to see edit and share calendars.\n",
        "# thsiwill generate a token for that particular user who has gave permssions\n"
      ],
      "execution_count": 72,
      "outputs": [
        {
          "output_type": "stream",
          "text": [
            "Please visit this URL to authorize this application: https://accounts.google.com/o/oauth2/auth?response_type=code&client_id=85361175655-qmb26la9h1bqnk01lovuum00me24qf4b.apps.googleusercontent.com&redirect_uri=urn%3Aietf%3Awg%3Aoauth%3A2.0%3Aoob&scope=https%3A%2F%2Fwww.googleapis.com%2Fauth%2Fcalendar&state=0Bg06GlGa84D4ZkrNXzy47OxJZemMp&prompt=consent&access_type=offline\n",
            "Enter the authorization code: 4/2QGFvg_TodXos77p16r0E57PZh3_O335h_VA-T8W5qVgxvnnbEp9rOw\n"
          ],
          "name": "stdout"
        }
      ]
    },
    {
      "cell_type": "code",
      "metadata": {
        "id": "KFyeSbwTg_L1",
        "colab_type": "code",
        "colab": {}
      },
      "source": [
        "import pickle     #We don't have to execute the above block again because we have saved the tokens (aka the credentials) into a pickle (.pkl) file called \"token.pkl\",so that now we can directly load the credentials (tokens) from it.'''\n",
        " #we can't run the above commands each and every time so that we can the credentials object in a pickle file"
      ],
      "execution_count": 15,
      "outputs": []
    },
    {
      "cell_type": "code",
      "metadata": {
        "id": "Pue6vpuOiMQK",
        "colab_type": "code",
        "colab": {}
      },
      "source": [
        "pickle.dump(credentials, open(\"token.pkl\", \"wb\"))    #wb-write binary mode\n",
        "                                                    #dump-puts the credentials into token.pkl"
      ],
      "execution_count": 73,
      "outputs": []
    },
    {
      "cell_type": "code",
      "metadata": {
        "id": "6nCde27Ojusq",
        "colab_type": "code",
        "colab": {}
      },
      "source": [
        "credentials=pickle.load(open(\"token.pkl\",\"rb\"))"
      ],
      "execution_count": 74,
      "outputs": []
    },
    {
      "cell_type": "code",
      "metadata": {
        "id": "KqtI-rlnj9O-",
        "colab_type": "code",
        "colab": {
          "base_uri": "https://localhost:8080/",
          "height": 34
        },
        "outputId": "099f8947-19f2-4710-c4d1-880f6edcb963"
      },
      "source": [
        "credentials"
      ],
      "execution_count": 75,
      "outputs": [
        {
          "output_type": "execute_result",
          "data": {
            "text/plain": [
              "<google.oauth2.credentials.Credentials at 0x7fbe22813240>"
            ]
          },
          "metadata": {
            "tags": []
          },
          "execution_count": 75
        }
      ]
    },
    {
      "cell_type": "code",
      "metadata": {
        "id": "W3ICQo14lHIs",
        "colab_type": "code",
        "colab": {}
      },
      "source": [
        "service = build(\"calendar\",\"v3\", credentials=credentials)   #we are using the build func frm apiclient.discovery to build the calendar api,v3 is the version\n",
        "                                                            # and i will pass the credentials using OAuth 2.0 access and refresh tokens.\n"
      ],
      "execution_count": 76,
      "outputs": []
    },
    {
      "cell_type": "markdown",
      "metadata": {
        "id": "EouHG59sm5rn",
        "colab_type": "text"
      },
      "source": [
        "GET MY CALENDARS"
      ]
    },
    {
      "cell_type": "code",
      "metadata": {
        "id": "DTjr8GgGnDrw",
        "colab_type": "code",
        "colab": {}
      },
      "source": [
        "result=service. calendarList().list().execute()                        #we can know the functions allowed for service obj frm API REF\n",
        "                                                                       #this will generate the api obj in which we have to use list func\n",
        "                                                                       #we are executing the api request actually"
      ],
      "execution_count": 77,
      "outputs": []
    },
    {
      "cell_type": "code",
      "metadata": {
        "id": "ND0GzdDWofYV",
        "colab_type": "code",
        "colab": {
          "base_uri": "https://localhost:8080/",
          "height": 221
        },
        "outputId": "07d78413-1e3c-46be-eca3-3026af48b931"
      },
      "source": [
        "result['items'][0]                             #tis is my primary calendar tis and ID is most probably our mailid"
      ],
      "execution_count": 78,
      "outputs": [
        {
          "output_type": "execute_result",
          "data": {
            "text/plain": [
              "{'accessRole': 'owner',\n",
              " 'backgroundColor': '#a47ae2',\n",
              " 'colorId': '24',\n",
              " 'conferenceProperties': {'allowedConferenceSolutionTypes': ['hangoutsMeet']},\n",
              " 'defaultReminders': [],\n",
              " 'etag': '\"1595830269105000\"',\n",
              " 'foregroundColor': '#000000',\n",
              " 'id': 'c_08bbfprc1fmqu4h6equ1g6672c@group.calendar.google.com',\n",
              " 'kind': 'calendar#calendarListEntry',\n",
              " 'selected': True,\n",
              " 'summary': 'My calendar',\n",
              " 'timeZone': 'Asia/Kolkata'}"
            ]
          },
          "metadata": {
            "tags": []
          },
          "execution_count": 78
        }
      ]
    },
    {
      "cell_type": "code",
      "metadata": {
        "id": "ZMvu1Qupxm4X",
        "colab_type": "code",
        "colab": {
          "base_uri": "https://localhost:8080/",
          "height": 34
        },
        "outputId": "c7283f2e-4d05-4f0f-dee8-4ea8c708cbe3"
      },
      "source": [
        "calendar_id=result['items'][0]['id']\n",
        "print(calendar_id)"
      ],
      "execution_count": 79,
      "outputs": [
        {
          "output_type": "stream",
          "text": [
            "c_08bbfprc1fmqu4h6equ1g6672c@group.calendar.google.com\n"
          ],
          "name": "stdout"
        }
      ]
    },
    {
      "cell_type": "markdown",
      "metadata": {
        "id": "5og7hIRSv1mS",
        "colab_type": "text"
      },
      "source": [
        "GET CALENDAR EVENTS"
      ]
    },
    {
      "cell_type": "code",
      "metadata": {
        "id": "nxpK2mEIo7xL",
        "colab_type": "code",
        "colab": {}
      },
      "source": [
        "#passing the calendar api into list#get the event through events list api\n",
        "result = service.events().list(calendarId=calendar_id, timeZone='Asia/Kolkata').execute() \n"
      ],
      "execution_count": 80,
      "outputs": []
    },
    {
      "cell_type": "code",
      "metadata": {
        "id": "1wfYKEkf2Uzu",
        "colab_type": "code",
        "colab": {
          "base_uri": "https://localhost:8080/",
          "height": 170
        },
        "outputId": "ef428ffd-4247-4054-91c9-4c1339100c99"
      },
      "source": [
        "result"
      ],
      "execution_count": 81,
      "outputs": [
        {
          "output_type": "execute_result",
          "data": {
            "text/plain": [
              "{'accessRole': 'owner',\n",
              " 'defaultReminders': [],\n",
              " 'etag': '\"p32cbtck2sfmek0g\"',\n",
              " 'items': [],\n",
              " 'kind': 'calendar#events',\n",
              " 'nextSyncToken': 'CJi-soLj7OoCEJi-soLj7OoCGAU=',\n",
              " 'summary': 'My calendar',\n",
              " 'timeZone': 'Asia/Kolkata',\n",
              " 'updated': '2020-07-27T06:11:08.895Z'}"
            ]
          },
          "metadata": {
            "tags": []
          },
          "execution_count": 81
        }
      ]
    },
    {
      "cell_type": "markdown",
      "metadata": {
        "id": "wegRBuFt65zg",
        "colab_type": "text"
      },
      "source": [
        "GET NEW CALENDAR EVENTS"
      ]
    },
    {
      "cell_type": "code",
      "metadata": {
        "id": "9EXrtTIt8c_J",
        "colab_type": "code",
        "colab": {}
      },
      "source": [
        "from datetime import datetime,timedelta"
      ],
      "execution_count": 82,
      "outputs": []
    },
    {
      "cell_type": "code",
      "metadata": {
        "id": "uchjUvze8pPj",
        "colab_type": "code",
        "colab": {}
      },
      "source": [
        "start_time = datetime(2020, 7, 28, 11,15,00)\n",
        "end_time = start_time + timedelta(hours=24)\n",
        "timeZone = 'Asia/Kolkata'"
      ],
      "execution_count": 83,
      "outputs": []
    },
    {
      "cell_type": "code",
      "metadata": {
        "id": "e0xxyrVR2jKr",
        "colab_type": "code",
        "colab": {}
      },
      "source": [
        "\n",
        "event = {\n",
        "  'summary': 'It is my star day',\n",
        "  'location': 'Coimbatore',\n",
        "  'description': 'Today is my star day!',\n",
        "  'start': {\n",
        "    'dateTime': start_time.strftime(\"%Y-%m-%dT%H:%M:%S\"),     #in string pattern the time is generated for tat we are using strf func\n",
        "    'timeZone': 'Asia/Kolkata',\n",
        "  },\n",
        "  'end': {\n",
        "    'dateTime': end_time.strftime(\"%Y-%m-%dT%H:%M:%S\"), \n",
        "    'timeZone': 'Asia/Kolkata',\n",
        "  },\n",
        "  'recurrence': [\n",
        "    'RRULE:FREQ=YEARLY;COUNT=2'\n",
        "  ],\n",
        "  'attendees': [\n",
        "    {'email': 'pradeepa.19is@kct.ac.in'},\n",
        "  ],\n",
        "  'reminders': {                                             #here we specify when do we want the reminder for the event\n",
        "    'useDefault': False,\n",
        "    'overrides': [\n",
        "      {'method': 'email', 'minutes': 24 * 60},\n",
        "      {'method': 'popup', 'minutes': 10},\n",
        "    ],\n",
        "  },\n",
        "}"
      ],
      "execution_count": 97,
      "outputs": []
    },
    {
      "cell_type": "code",
      "metadata": {
        "id": "PvIOgGBlDouv",
        "colab_type": "code",
        "colab": {
          "base_uri": "https://localhost:8080/",
          "height": 751
        },
        "outputId": "2252d81a-5bc9-40a4-9b62-71553b6b4745"
      },
      "source": [
        "service.events().insert(calendarId=calendar_id, body = event).execute()"
      ],
      "execution_count": 99,
      "outputs": [
        {
          "output_type": "execute_result",
          "data": {
            "text/plain": [
              "{'attendees': [{'email': 'pradeepa.19is@kct.ac.in',\n",
              "   'responseStatus': 'needsAction'}],\n",
              " 'conferenceData': {'conferenceId': 'rwa-pmmg-cbg',\n",
              "  'conferenceSolution': {'iconUri': 'https://lh5.googleusercontent.com/proxy/bWvYBOb7O03a7HK5iKNEAPoUNPEXH1CHZjuOkiqxHx8OtyVn9sZ6Ktl8hfqBNQUUbCDg6T2unnsHx7RSkCyhrKgHcdoosAW8POQJm_ZEvZU9ZfAE7mZIBGr_tDlF8Z_rSzXcjTffVXg3M46v',\n",
              "   'key': {'type': 'hangoutsMeet'},\n",
              "   'name': 'Google Meet'},\n",
              "  'createRequest': {'conferenceSolutionKey': {'type': 'hangoutsMeet'},\n",
              "   'requestId': 'hnn41jg0dga5g198h5rbkc2u8g',\n",
              "   'status': {'statusCode': 'success'}},\n",
              "  'entryPoints': [{'entryPointType': 'video',\n",
              "    'label': 'meet.google.com/rwa-pmmg-cbg',\n",
              "    'uri': 'https://meet.google.com/rwa-pmmg-cbg'},\n",
              "   {'entryPointType': 'phone',\n",
              "    'label': '+1 567-246-3437',\n",
              "    'pin': '199407348',\n",
              "    'regionCode': 'US',\n",
              "    'uri': 'tel:+1-567-246-3437'}],\n",
              "  'signature': 'ADR/mfOylWMePLLrhWYsZoxUE3mh'},\n",
              " 'created': '2020-07-27T09:33:00.000Z',\n",
              " 'creator': {'email': 'pradeepa.19is@kct.ac.in'},\n",
              " 'description': 'Today is my star day!',\n",
              " 'end': {'dateTime': '2020-07-29T11:15:00+05:30', 'timeZone': 'Asia/Kolkata'},\n",
              " 'etag': '\"3191684760410000\"',\n",
              " 'hangoutLink': 'https://meet.google.com/rwa-pmmg-cbg',\n",
              " 'htmlLink': 'https://www.google.com/calendar/event?eid=NTVwMXA1cmgwaWIyaGVjbzloZmRpcGdmcW9fMjAyMDA3MjhUMDU0NTAwWiBjXzA4YmJmcHJjMWZtcXU0aDZlcXUxZzY2NzJjQGc',\n",
              " 'iCalUID': '55p1p5rh0ib2heco9hfdipgfqo@google.com',\n",
              " 'id': '55p1p5rh0ib2heco9hfdipgfqo',\n",
              " 'kind': 'calendar#event',\n",
              " 'location': 'Coimbatore',\n",
              " 'organizer': {'displayName': 'My calendar',\n",
              "  'email': 'c_08bbfprc1fmqu4h6equ1g6672c@group.calendar.google.com',\n",
              "  'self': True},\n",
              " 'recurrence': ['RRULE:FREQ=YEARLY;COUNT=2'],\n",
              " 'reminders': {'overrides': [{'method': 'popup', 'minutes': 10},\n",
              "   {'method': 'email', 'minutes': 1440}],\n",
              "  'useDefault': False},\n",
              " 'sequence': 0,\n",
              " 'start': {'dateTime': '2020-07-28T11:15:00+05:30',\n",
              "  'timeZone': 'Asia/Kolkata'},\n",
              " 'status': 'confirmed',\n",
              " 'summary': 'It is my star day',\n",
              " 'updated': '2020-07-27T09:33:00.286Z'}"
            ]
          },
          "metadata": {
            "tags": []
          },
          "execution_count": 99
        }
      ]
    },
    {
      "cell_type": "markdown",
      "metadata": {
        "id": "HbphpwcDSfuC",
        "colab_type": "text"
      },
      "source": [
        "**FOR MY REF**:"
      ]
    },
    {
      "cell_type": "markdown",
      "metadata": {
        "id": "3IxXTdbqR330",
        "colab_type": "text"
      },
      "source": [
        "After that we need to create some credentials to interact with the api.I need to access and edit my google calendar and for that I need to create oauth client 2.0 id.Auth is is a authorisation methodfrom api key which is a bit more safe and secure.It reqiuires the user's permission to generate a token.\n",
        "This oauth consent screen will be visible to the person viewing our application.Credential can be of many forms like it can be a oauth id ...auth works in 2 ways:we create credentials which are specific.next thing is any user will give permission for accessing some data of them.He will give permisiion for mu google console project.Before adding the scopes we need to enable the calendar api so that we could interact with the calendar."
      ]
    }
  ]
}